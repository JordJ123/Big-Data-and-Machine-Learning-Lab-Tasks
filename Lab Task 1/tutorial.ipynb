{
 "cells": [
  {
   "cell_type": "code",
   "execution_count": 3,
   "id": "4b01f412-a971-410c-ba31-08977011706f",
   "metadata": {},
   "outputs": [
    {
     "name": "stdout",
     "output_type": "stream",
     "text": [
      "Hello World\n"
     ]
    }
   ],
   "source": [
    "print(\"Hello World\")"
   ]
  },
  {
   "cell_type": "markdown",
   "id": "d6498b78-c2a4-4dae-8598-7fc66c0b8122",
   "metadata": {},
   "source": [
    "## Welcome to the Notebook"
   ]
  },
  {
   "cell_type": "code",
   "execution_count": null,
   "id": "3347574a-25c2-44f6-8773-699043091171",
   "metadata": {},
   "outputs": [],
   "source": []
  }
 ],
 "metadata": {
  "kernelspec": {
   "display_name": "Python 3 (ipykernel)",
   "language": "python",
   "name": "python3"
  },
  "language_info": {
   "codemirror_mode": {
    "name": "ipython",
    "version": 3
   },
   "file_extension": ".py",
   "mimetype": "text/x-python",
   "name": "python",
   "nbconvert_exporter": "python",
   "pygments_lexer": "ipython3",
   "version": "3.8.10"
  }
 },
 "nbformat": 4,
 "nbformat_minor": 5
}
